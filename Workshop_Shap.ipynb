{
 "cells": [
  {
   "cell_type": "code",
   "execution_count": 4,
   "metadata": {},
   "outputs": [],
   "source": [
    "# Load Python packages required for the analysis\n",
    "import shap\n",
    "import pandas as pd\n",
    "import numpy as np\n",
    "import matplotlib.pyplot as plt\n",
    "from sklearn.model_selection import train_test_split\n"
   ]
  },
  {
   "cell_type": "code",
   "execution_count": 5,
   "metadata": {},
   "outputs": [],
   "source": [
    "# Main functiopn that interacts with SHAP\n",
    "# In this use case we are using output generated from a legacy model \n",
    "# SHAP call\n",
    "def shap_generic_model(model_df, predValName, numsim):\n",
    "\n",
    "    X_all = model_df.drop([predValName], axis=1)\n",
    "    X_all = X_all.sample(n=(5*numsim), random_state=1)\n",
    "    X_train, X_test = train_test_split(X_all, test_size=0.2, shuffle=True)\n",
    "\n",
    "    headers = X_all.columns.tolist()\n",
    "\n",
    "    ######### \n",
    "    ## Simple look up into known set of model outputs\n",
    "    ##\n",
    "    #########\n",
    "    def predict_helper(x):\n",
    "        query_string = \"\"\n",
    "        for i in range(len(x)):\n",
    "            if i == 0:\n",
    "                cond = headers[i] + \" == \" + str(x[i])\n",
    "\n",
    "            else:\n",
    "                cond = \" and \" + headers[i] + \" == \" + str(x[i])\n",
    "\n",
    "            query_string += cond\n",
    "\n",
    "        record = model_df.query(query_string)\n",
    "\n",
    "        return record[predValName]\n",
    "\n",
    "    def predict(Xs):\n",
    "        Ys = np.empty(Xs.shape[0])\n",
    "        for row in range(Xs.shape[0]):\n",
    "            prediction = predict_helper(Xs[row])\n",
    "            np.put(Ys, row, prediction)\n",
    "\n",
    "        return Ys\n",
    "\n",
    "    model = shap.common.Model(predict, predValName)\n",
    "    ##########################################\n",
    "    # SHAP provides a series of explainers\n",
    "    # KernelExplainer can support \"any\" model\n",
    "    # The KernelExplainer builds a weighted linear regression by using your data, your predictions, \n",
    "    # and whatever function that predicts the predicted values. \n",
    "    # It computes the variable importance values based on the Shapley values from game theory, \n",
    "    # and the coefficients from a local linear regression\n",
    "    #####################################################\n",
    "    explainer = shap.KernelExplainer(model, X_train)\n",
    "    shap_values = explainer.shap_values(X_test, check_additivity=False,l1_reg=\"num_features(10)\")\n",
    "    expected_value = explainer.expected_value\n",
    "\n",
    "    return shap_values, expected_value, X_test\n"
   ]
  },
  {
   "cell_type": "code",
   "execution_count": 6,
   "metadata": {},
   "outputs": [
    {
     "data": {
      "text/html": [
       "<div>\n",
       "<style scoped>\n",
       "    .dataframe tbody tr th:only-of-type {\n",
       "        vertical-align: middle;\n",
       "    }\n",
       "\n",
       "    .dataframe tbody tr th {\n",
       "        vertical-align: top;\n",
       "    }\n",
       "\n",
       "    .dataframe thead th {\n",
       "        text-align: right;\n",
       "    }\n",
       "</style>\n",
       "<table border=\"1\" class=\"dataframe\">\n",
       "  <thead>\n",
       "    <tr style=\"text-align: right;\">\n",
       "      <th></th>\n",
       "      <th>HPI</th>\n",
       "      <th>Rates</th>\n",
       "      <th>UE</th>\n",
       "      <th>FICO</th>\n",
       "      <th>Age</th>\n",
       "      <th>RollRate</th>\n",
       "    </tr>\n",
       "  </thead>\n",
       "  <tbody>\n",
       "    <tr>\n",
       "      <th>0</th>\n",
       "      <td>-50</td>\n",
       "      <td>-3.0</td>\n",
       "      <td>0.0</td>\n",
       "      <td>650</td>\n",
       "      <td>12</td>\n",
       "      <td>0.670550</td>\n",
       "    </tr>\n",
       "    <tr>\n",
       "      <th>1</th>\n",
       "      <td>-45</td>\n",
       "      <td>-3.0</td>\n",
       "      <td>0.0</td>\n",
       "      <td>650</td>\n",
       "      <td>12</td>\n",
       "      <td>0.485970</td>\n",
       "    </tr>\n",
       "    <tr>\n",
       "      <th>2</th>\n",
       "      <td>-40</td>\n",
       "      <td>-3.0</td>\n",
       "      <td>0.0</td>\n",
       "      <td>650</td>\n",
       "      <td>12</td>\n",
       "      <td>0.370584</td>\n",
       "    </tr>\n",
       "    <tr>\n",
       "      <th>3</th>\n",
       "      <td>-35</td>\n",
       "      <td>-3.0</td>\n",
       "      <td>0.0</td>\n",
       "      <td>650</td>\n",
       "      <td>12</td>\n",
       "      <td>0.292557</td>\n",
       "    </tr>\n",
       "    <tr>\n",
       "      <th>4</th>\n",
       "      <td>-30</td>\n",
       "      <td>-3.0</td>\n",
       "      <td>0.0</td>\n",
       "      <td>650</td>\n",
       "      <td>12</td>\n",
       "      <td>0.236592</td>\n",
       "    </tr>\n",
       "  </tbody>\n",
       "</table>\n",
       "</div>"
      ],
      "text/plain": [
       "   HPI  Rates   UE  FICO  Age  RollRate\n",
       "0  -50   -3.0  0.0   650   12  0.670550\n",
       "1  -45   -3.0  0.0   650   12  0.485970\n",
       "2  -40   -3.0  0.0   650   12  0.370584\n",
       "3  -35   -3.0  0.0   650   12  0.292557\n",
       "4  -30   -3.0  0.0   650   12  0.236592"
      ]
     },
     "execution_count": 6,
     "metadata": {},
     "output_type": "execute_result"
    }
   ],
   "source": [
    "model_path = \"RollRates.csv\"\n",
    "df = pd.read_csv(model_path, encoding='utf-8')\n",
    "predict_val = \"RollRate\"\n",
    "numsim = 10\n",
    "df.head()"
   ]
  },
  {
   "cell_type": "code",
   "execution_count": 8,
   "metadata": {},
   "outputs": [
    {
     "data": {
      "application/vnd.jupyter.widget-view+json": {
       "model_id": "465e949a259f489cbf8f1fc16359a9a3",
       "version_major": 2,
       "version_minor": 0
      },
      "text/html": [
       "<p>Failed to display Jupyter Widget of type <code>HBox</code>.</p>\n",
       "<p>\n",
       "  If you're reading this message in the Jupyter Notebook or JupyterLab Notebook, it may mean\n",
       "  that the widgets JavaScript is still loading. If this message persists, it\n",
       "  likely means that the widgets JavaScript library is either not installed or\n",
       "  not enabled. See the <a href=\"https://ipywidgets.readthedocs.io/en/stable/user_install.html\">Jupyter\n",
       "  Widgets Documentation</a> for setup instructions.\n",
       "</p>\n",
       "<p>\n",
       "  If you're reading this message in another frontend (for example, a static\n",
       "  rendering on GitHub or <a href=\"https://nbviewer.jupyter.org/\">NBViewer</a>),\n",
       "  it may mean that your frontend doesn't currently support widgets.\n",
       "</p>\n"
      ],
      "text/plain": [
       "HBox(children=(HTML(value=''), FloatProgress(value=0.0, max=10.0), HTML(value='')))"
      ]
     },
     "metadata": {},
     "output_type": "display_data"
    },
    {
     "name": "stdout",
     "output_type": "stream",
     "text": [
      "\n"
     ]
    }
   ],
   "source": [
    "shap_values, expected_value, stest = shap_generic_model(df, predict_val, numsim)"
   ]
  },
  {
   "cell_type": "code",
   "execution_count": 9,
   "metadata": {},
   "outputs": [
    {
     "data": {
      "image/png": "[encoded data removed]",
      "text/plain": [
       "<Figure size 432x288 with 1 Axes>"
      ]
     },
     "metadata": {
      "needs_background": "light"
     },
     "output_type": "display_data"
    }
   ],
   "source": [
    "plt.title(label=\"Summary of Features: \" + predict_val + \" Model\")\n",
    "plt.ylabel(ylabel=\"Features\")\n",
    "plt.xlabel(xlabel=\"Model Impact\")\n",
    "shap.summary_plot(shap_values, stest,show=True, plot_size=None,plot_type=\"bar\")\n"
   ]
  },
  {
   "cell_type": "code",
   "execution_count": 19,
   "metadata": {},
   "outputs": [
    {
     "data": {
      "image/png": "[encoded data removed]",
      "text/plain": [
       "<Figure size 576x252 with 1 Axes>"
      ]
     },
     "metadata": {
      "needs_background": "light"
     },
     "output_type": "display_data"
    }
   ],
   "source": [
    "# Path Plot                                                                                                                                                                \n",
    "sample_index = numsim-1\n",
    "plt.xlabel(xlabel=\"Model Output Value\")\n",
    "shap.decision_plot(expected_value, shap_values[sample_index], stest, feature_names=stest.columns.tolist(), show=True, highlight=0)\n"
   ]
  },
  {
   "cell_type": "code",
   "execution_count": 10,
   "metadata": {},
   "outputs": [
    {
     "data": {
      "image/png": "[encoded data removed]",
      "text/plain": [
       "<Figure size 1440x216 with 1 Axes>"
      ]
     },
     "metadata": {
      "needs_background": "light"
     },
     "output_type": "display_data"
    }
   ],
   "source": [
    "# Force Plot                                                                                                                                                               \n",
    "sample_index = 3\n",
    "shap.force_plot(expected_value, shap_values[sample_index], stest.iloc[sample_index], feature_names=stest.columns.tolist(),matplotlib=True, show=True)\n"
   ]
  }
 ],
 "metadata": {
  "kernelspec": {
   "display_name": "Python 3",
   "language": "python",
   "name": "python3"
  },
  "language_info": {
   "codemirror_mode": {
    "name": "ipython",
    "version": 3
   },
   "file_extension": ".py",
   "mimetype": "text/x-python",
   "name": "python",
   "nbconvert_exporter": "python",
   "pygments_lexer": "ipython3",
   "version": "3.6.2"
  }
 },
 "nbformat": 4,
 "nbformat_minor": 2
}
